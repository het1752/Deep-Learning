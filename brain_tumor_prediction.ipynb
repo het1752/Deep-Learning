{
  "nbformat": 4,
  "nbformat_minor": 0,
  "metadata": {
    "colab": {
      "name": "brain tumor prediction.ipynb",
      "private_outputs": true,
      "provenance": [],
      "collapsed_sections": []
    },
    "kernelspec": {
      "name": "python3",
      "display_name": "Python 3"
    },
    "language_info": {
      "name": "python"
    }
  },
  "cells": [
    {
      "cell_type": "code",
      "source": [
        "!unzip /content/data.zip"
      ],
      "metadata": {
        "id": "f9ZyT9t3KGAF"
      },
      "execution_count": null,
      "outputs": []
    },
    {
      "cell_type": "code",
      "source": [
        "import numpy as np\n",
        "import matplotlib.pyplot as plt\n",
        "import os\n",
        "import math\n",
        "import glob\n",
        "import shutil"
      ],
      "metadata": {
        "id": "h7zuRBmfLcE5"
      },
      "execution_count": null,
      "outputs": []
    },
    {
      "cell_type": "code",
      "source": [
        "# number of images in directory\n",
        "root_dir=\"/content/Brain Tumor Data Set/Brain Tumor Data Set\"\n",
        "no_of_images={}\n",
        "for dir in os.listdir(root_dir):\n",
        "  # no_of_images[dir]=os.listdir(os.path.join(root_dir,dir))\n",
        "  no_of_images[dir]=len(os.listdir(os.path.join(root_dir,dir)))\n",
        "no_of_images.items()"
      ],
      "metadata": {
        "id": "PDGE1V01MBk-"
      },
      "execution_count": null,
      "outputs": []
    },
    {
      "cell_type": "code",
      "source": [
        "os.listdir(\"/content/Brain Tumor Data Set/Brain Tumor Data Set\")"
      ],
      "metadata": {
        "id": "s7k7_mizMqIi"
      },
      "execution_count": null,
      "outputs": []
    },
    {
      "cell_type": "code",
      "source": [
        "len(os.listdir(\"/content/Brain Tumor Data Set/Brain Tumor Data Set\"))"
      ],
      "metadata": {
        "id": "kixjlB5jNFpg"
      },
      "execution_count": null,
      "outputs": []
    },
    {
      "cell_type": "markdown",
      "source": [
        "#@ split data\n",
        "##70% training data\n",
        "## 15% validation data\n",
        "## 15% testing data"
      ],
      "metadata": {
        "id": "vE8LNy9_NnjY"
      }
    },
    {
      "cell_type": "code",
      "source": [
        "# train folder\n",
        "def datafolder(p,split):\n",
        "  if not os.path.exists(\"./\"+p):\n",
        "    os.mkdir(\"./\"+p)\n",
        "    for dir in os.listdir(root_dir):\n",
        "      os.makedirs(\"./\"+p+\"/\"+dir)\n",
        "      for img in np.random.choice(a=os.listdir(os.path.join(root_dir,dir)),\n",
        "                                  size=(math.floor(split*no_of_images[dir])-2),\n",
        "                                  replace=False):\n",
        "        o=os.path.join(root_dir,dir,img)\n",
        "        d=os.path.join(\"./\"+p,dir)\n",
        "        shutil.copy(o,d)\n",
        "        os.remove(o)\n",
        "  else:\n",
        "    print(f\"{p}folder exists\")"
      ],
      "metadata": {
        "id": "TSgzixRuNJQ6"
      },
      "execution_count": null,
      "outputs": []
    },
    {
      "cell_type": "code",
      "source": [
        "datafolder(\"train\",0.7)"
      ],
      "metadata": {
        "id": "TsCuGkp4Ne0f"
      },
      "execution_count": null,
      "outputs": []
    },
    {
      "cell_type": "code",
      "source": [
        "datafolder(\"val\",0.15)"
      ],
      "metadata": {
        "id": "eaD1cXdxR0zB"
      },
      "execution_count": null,
      "outputs": []
    },
    {
      "cell_type": "code",
      "source": [
        "datafolder(\"test\",0.15)"
      ],
      "metadata": {
        "id": "3eCugZQ1R_aE"
      },
      "execution_count": null,
      "outputs": []
    },
    {
      "cell_type": "markdown",
      "source": [
        "### model build"
      ],
      "metadata": {
        "id": "BW3ll2-gSrF0"
      }
    },
    {
      "cell_type": "code",
      "source": [
        "from keras.layers import Conv2D,MaxPool2D,Dropout,Flatten,Dense,BatchNormalization,GlobalAvgPool2D\n",
        "from keras.models import Sequential,Model,load_model\n",
        "from keras.preprocessing.image import load_img,img_to_array\n",
        "from keras.applications.mobilenet import MobileNet,preprocess_input\n",
        "import keras"
      ],
      "metadata": {
        "id": "QzJ05RoXSgra"
      },
      "execution_count": null,
      "outputs": []
    },
    {
      "cell_type": "code",
      "source": [
        "basemodel=MobileNet(input_shape=(224,224,3),include_top=False)"
      ],
      "metadata": {
        "id": "5hhDPg345AP2"
      },
      "execution_count": null,
      "outputs": []
    },
    {
      "cell_type": "code",
      "source": [
        "for layer in basemodel.layers:\n",
        "  layer.trainable=False"
      ],
      "metadata": {
        "id": "bCJApOhP5Osj"
      },
      "execution_count": null,
      "outputs": []
    },
    {
      "cell_type": "code",
      "source": [
        "basemodel.summary()"
      ],
      "metadata": {
        "id": "PhKlR8ao5ktV"
      },
      "execution_count": null,
      "outputs": []
    },
    {
      "cell_type": "code",
      "source": [
        "from keras.backend import flatten\n",
        "x=Flatten()(basemodel.output)\n",
        "x=Dense(units=1,activation='sigmoid')(x)\n",
        "model=Model(basemodel.input,x)"
      ],
      "metadata": {
        "id": "XT1sjxcS567o"
      },
      "execution_count": null,
      "outputs": []
    },
    {
      "cell_type": "code",
      "source": [
        "# CNN Model\n",
        "model=Sequential()\n",
        "model.add(Conv2D(filters=16,kernel_size=(3,3),activation=\"relu\",input_shape=(224,224,3)))\n",
        "model.add(Conv2D(filters=36,kernel_size=(3,3),activation=\"relu\"))\n",
        "model.add(MaxPool2D(pool_size=(2,2)))\n",
        "model.add(Conv2D(filters=64,kernel_size=(3,3),activation=\"relu\"))\n",
        "model.add(MaxPool2D(pool_size=(2,2)))\n",
        "model.add(Conv2D(filters=128,kernel_size=(3,3),activation=\"relu\"))\n",
        "model.add(MaxPool2D(pool_size=(2,2)))\n",
        "model.add(Dropout(rate=0.25))\n",
        "model.add(Flatten())\n",
        "model.add(Dense(units=64,activation='relu'))\n",
        "model.add(Dropout(rate=0.25))\n",
        "model.add(Dense(units=1,activation='sigmoid'))\n",
        "model.summary()"
      ],
      "metadata": {
        "id": "-ZLZGTbdTmd-"
      },
      "execution_count": null,
      "outputs": []
    },
    {
      "cell_type": "code",
      "source": [
        "model.compile(optimizer='rmsprop',loss=keras.losses.binary_crossentropy,metrics=['accuracy'])"
      ],
      "metadata": {
        "id": "hjHb-BrGWo44"
      },
      "execution_count": null,
      "outputs": []
    },
    {
      "cell_type": "markdown",
      "source": [
        "###preparing data using data generator"
      ],
      "metadata": {
        "id": "GQsI_U3dZ8oP"
      }
    },
    {
      "cell_type": "code",
      "source": [
        "from keras.preprocessing.image import ImageDataGenerator"
      ],
      "metadata": {
        "id": "IBP5LNLUaKOV"
      },
      "execution_count": null,
      "outputs": []
    },
    {
      "cell_type": "code",
      "source": [
        "def preprocessingImages(path):\n",
        "  \"\"\"\n",
        "  input : path\n",
        "  output: preprocessed image\n",
        "  \"\"\"\n",
        "  image_data=ImageDataGenerator(zoom_range=0.2,shear_range=0.2,rescale=1/255,horizontal_flip=True)\n",
        "  image=image_data.flow_from_directory(directory=path,target_size=(224,224),batch_size=32,class_mode='binary')\n",
        "  return image"
      ],
      "metadata": {
        "id": "ND0LqaWwZ6wI"
      },
      "execution_count": null,
      "outputs": []
    },
    {
      "cell_type": "code",
      "source": [
        "path=\"/content/train\"\n",
        "train_data=preprocessingImages(path)"
      ],
      "metadata": {
        "id": "WoIhcrjSayf6"
      },
      "execution_count": null,
      "outputs": []
    },
    {
      "cell_type": "code",
      "source": [
        "def preprocessingImages2(path):\n",
        "  \"\"\"\n",
        "  input : path\n",
        "  output: preprocessed image\n",
        "  \"\"\"\n",
        "  image_data=ImageDataGenerator(preprocessing_function=preprocess_input)\n",
        "  image=image_data.flow_from_directory(directory=path,target_size=(224,224),batch_size=32,class_mode='binary')\n",
        "  return image"
      ],
      "metadata": {
        "id": "1Je3d_NfbZpi"
      },
      "execution_count": null,
      "outputs": []
    },
    {
      "cell_type": "code",
      "source": [
        "path=\"/content/test\"\n",
        "test_data=preprocessingImages2(path)"
      ],
      "metadata": {
        "id": "8pkLrjpYbsV1"
      },
      "execution_count": null,
      "outputs": []
    },
    {
      "cell_type": "code",
      "source": [
        "path=\"/content/val\"\n",
        "val_data=preprocessingImages2(path)"
      ],
      "metadata": {
        "id": "StizY7wKbymc"
      },
      "execution_count": null,
      "outputs": []
    },
    {
      "cell_type": "code",
      "source": [
        "# early stopping\n",
        "from keras.callbacks import ModelCheckpoint,EarlyStopping\n",
        "es=EarlyStopping(monitor='val_accuracy',min_delta=0.01,patience=3,verbose=1,mode='auto')\n",
        "# model checkpoint\n",
        "mcheck=ModelCheckpoint(monitor='val_accuracy',filepath='./bestmodel.h5',verbose=1,save_best_only=True,mode='auto')\n",
        "cd=[es,mcheck]"
      ],
      "metadata": {
        "id": "x1wAGP7ib47N"
      },
      "execution_count": null,
      "outputs": []
    },
    {
      "cell_type": "code",
      "source": [
        "from keras import callbacks\n",
        "# model training\n",
        "hs=model.fit_generator(generator=train_data,steps_per_epoch=8,epochs=30,verbose=1,validation_data=val_data,validation_steps=16,callbacks=cd)\n"
      ],
      "metadata": {
        "id": "gv6RF0ZvczaF"
      },
      "execution_count": null,
      "outputs": []
    },
    {
      "cell_type": "code",
      "source": [
        "h=hs.history\n",
        "h.keys()"
      ],
      "metadata": {
        "id": "LdjJLAoUdnZH"
      },
      "execution_count": null,
      "outputs": []
    },
    {
      "cell_type": "code",
      "source": [
        "plt.plot(h['accuracy'])\n",
        "plt.plot(h['val_accuracy'])\n",
        "plt.title('accuracy VS Validation-accuracy')\n",
        "plt.show()"
      ],
      "metadata": {
        "id": "h2331-Rxf4JY"
      },
      "execution_count": null,
      "outputs": []
    },
    {
      "cell_type": "code",
      "source": [
        "from keras.models import load_model\n",
        "model=load_model(\"/content/bestmodel.h5\")"
      ],
      "metadata": {
        "id": "-ScnT4ZdgOIO"
      },
      "execution_count": null,
      "outputs": []
    },
    {
      "cell_type": "code",
      "source": [
        "# Accuracy\n",
        "acc=model.evaluate(test_data)[1]\n",
        "print(\"Accuracy is :\" ,acc*100,\"%\")"
      ],
      "metadata": {
        "id": "KRmDyo5kgh7h"
      },
      "execution_count": null,
      "outputs": []
    },
    {
      "cell_type": "code",
      "source": [
        "from keras.preprocessing.image import load_img,img_to_array\n"
      ],
      "metadata": {
        "id": "Orw9pwdfgyDq"
      },
      "execution_count": null,
      "outputs": []
    },
    {
      "cell_type": "code",
      "source": [
        "test_data.class_indices"
      ],
      "metadata": {
        "id": "yc9S_SAB1Wxz"
      },
      "execution_count": null,
      "outputs": []
    },
    {
      "cell_type": "code",
      "source": [
        "def detect(path):\n",
        "  print(\"Welcome To BrainCancer Detection Program\")\n",
        "  img=load_img(path,target_size=(224,224))\n",
        "  img=img_to_array(img)/255\n",
        "  \n",
        "  plt.imshow(img)\n",
        "  plt.show()\n",
        "  img=np.expand_dims(img,axis=0)\n",
        "  pred=model.predict(img)\n",
        "  if pred>0.5:\n",
        "    print(pred)\n",
        "    print(\"it has no Brain tumor\")\n",
        "  else:\n",
        "    print(pred)\n",
        "    print(\"it has Brain tumor\")\n",
        "detect(\"/content/test/Brain Tumor/Cancer (1107).jpg\")"
      ],
      "metadata": {
        "id": "yhso5sV4zS9G"
      },
      "execution_count": null,
      "outputs": []
    },
    {
      "cell_type": "code",
      "source": [
        "detect(\"/content/test/Brain Tumor/Cancer (1116).jpg\")"
      ],
      "metadata": {
        "id": "22nIuhqn2C-E"
      },
      "execution_count": null,
      "outputs": []
    },
    {
      "cell_type": "code",
      "source": [
        "detect(\"/content/test/Healthy/Not Cancer  (1010).jpg\")"
      ],
      "metadata": {
        "id": "-HHKKtCk8RSn"
      },
      "execution_count": null,
      "outputs": []
    },
    {
      "cell_type": "code",
      "source": [
        "detect(\"/content/test/Healthy/Not Cancer  (1755).jpg\")"
      ],
      "metadata": {
        "id": "RPWux-aF8VGl"
      },
      "execution_count": null,
      "outputs": []
    },
    {
      "cell_type": "code",
      "source": [
        "detect(\"/content/test/Healthy/Not Cancer  (1798).jpg\")"
      ],
      "metadata": {
        "id": "TN7HNsX28YQ6"
      },
      "execution_count": null,
      "outputs": []
    },
    {
      "cell_type": "code",
      "source": [
        ""
      ],
      "metadata": {
        "id": "dt3xwCoU8lky"
      },
      "execution_count": null,
      "outputs": []
    }
  ]
}